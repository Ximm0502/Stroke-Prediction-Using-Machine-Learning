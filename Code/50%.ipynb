{
 "cells": [
  {
   "cell_type": "code",
   "execution_count": 174,
   "metadata": {},
   "outputs": [],
   "source": [
    "import pandas as pd\n",
    "import numpy as np\n",
    "import matplotlib.pyplot as plt\n",
    "import seaborn as sns\n",
    "import plotly.express as px\n",
    "from sklearn.preprocessing import MultiLabelBinarizer, MinMaxScaler, LabelEncoder\n",
    "from sklearn.model_selection import train_test_split, GridSearchCV\n",
    "from xgboost import XGBClassifier\n",
    "from sklearn.metrics import accuracy_score"
   ]
  },
  {
   "cell_type": "markdown",
   "metadata": {},
   "source": [
    "# Data Exploration"
   ]
  },
  {
   "cell_type": "code",
   "execution_count": 175,
   "metadata": {},
   "outputs": [],
   "source": [
    "df = pd.read_csv(\"stroke_prediction_dataset.csv\", sep=\";\")"
   ]
  },
  {
   "cell_type": "code",
   "execution_count": 176,
   "metadata": {},
   "outputs": [
    {
     "data": {
      "text/html": [
       "<div>\n",
       "<style scoped>\n",
       "    .dataframe tbody tr th:only-of-type {\n",
       "        vertical-align: middle;\n",
       "    }\n",
       "\n",
       "    .dataframe tbody tr th {\n",
       "        vertical-align: top;\n",
       "    }\n",
       "\n",
       "    .dataframe thead th {\n",
       "        text-align: right;\n",
       "    }\n",
       "</style>\n",
       "<table border=\"1\" class=\"dataframe\">\n",
       "  <thead>\n",
       "    <tr style=\"text-align: right;\">\n",
       "      <th></th>\n",
       "      <th>Patient ID</th>\n",
       "      <th>Patient Name</th>\n",
       "      <th>Age</th>\n",
       "      <th>Gender</th>\n",
       "      <th>Hypertension</th>\n",
       "      <th>Heart Disease</th>\n",
       "      <th>Marital Status</th>\n",
       "      <th>Work Type</th>\n",
       "      <th>Residence Type</th>\n",
       "      <th>Average Glucose Level</th>\n",
       "      <th>...</th>\n",
       "      <th>Alcohol Intake</th>\n",
       "      <th>Physical Activity</th>\n",
       "      <th>Stroke History</th>\n",
       "      <th>Family History of Stroke</th>\n",
       "      <th>Dietary Habits</th>\n",
       "      <th>Stress Levels</th>\n",
       "      <th>Blood Pressure Levels</th>\n",
       "      <th>Cholesterol Levels</th>\n",
       "      <th>Symptoms</th>\n",
       "      <th>Diagnosis</th>\n",
       "    </tr>\n",
       "  </thead>\n",
       "  <tbody>\n",
       "    <tr>\n",
       "      <th>0</th>\n",
       "      <td>18153</td>\n",
       "      <td>Mamooty Khurana</td>\n",
       "      <td>56</td>\n",
       "      <td>Male</td>\n",
       "      <td>0</td>\n",
       "      <td>1</td>\n",
       "      <td>Married</td>\n",
       "      <td>Self-employed</td>\n",
       "      <td>Rural</td>\n",
       "      <td>130.91</td>\n",
       "      <td>...</td>\n",
       "      <td>Social Drinker</td>\n",
       "      <td>Moderate</td>\n",
       "      <td>0</td>\n",
       "      <td>Yes</td>\n",
       "      <td>Vegan</td>\n",
       "      <td>3.48</td>\n",
       "      <td>140/108</td>\n",
       "      <td>HDL: 68, LDL: 133</td>\n",
       "      <td>Difficulty Speaking, Headache</td>\n",
       "      <td>Stroke</td>\n",
       "    </tr>\n",
       "    <tr>\n",
       "      <th>1</th>\n",
       "      <td>62749</td>\n",
       "      <td>Kaira Subramaniam</td>\n",
       "      <td>80</td>\n",
       "      <td>Male</td>\n",
       "      <td>0</td>\n",
       "      <td>0</td>\n",
       "      <td>Single</td>\n",
       "      <td>Self-employed</td>\n",
       "      <td>Urban</td>\n",
       "      <td>183.73</td>\n",
       "      <td>...</td>\n",
       "      <td>Never</td>\n",
       "      <td>Low</td>\n",
       "      <td>0</td>\n",
       "      <td>No</td>\n",
       "      <td>Paleo</td>\n",
       "      <td>1.73</td>\n",
       "      <td>146/91</td>\n",
       "      <td>HDL: 63, LDL: 70</td>\n",
       "      <td>Loss of Balance, Headache, Dizziness, Confusion</td>\n",
       "      <td>Stroke</td>\n",
       "    </tr>\n",
       "    <tr>\n",
       "      <th>2</th>\n",
       "      <td>32145</td>\n",
       "      <td>Dhanush Balan</td>\n",
       "      <td>26</td>\n",
       "      <td>Male</td>\n",
       "      <td>1</td>\n",
       "      <td>1</td>\n",
       "      <td>Married</td>\n",
       "      <td>Never Worked</td>\n",
       "      <td>Rural</td>\n",
       "      <td>189.00</td>\n",
       "      <td>...</td>\n",
       "      <td>Rarely</td>\n",
       "      <td>High</td>\n",
       "      <td>0</td>\n",
       "      <td>Yes</td>\n",
       "      <td>Paleo</td>\n",
       "      <td>7.31</td>\n",
       "      <td>154/97</td>\n",
       "      <td>HDL: 59, LDL: 95</td>\n",
       "      <td>Seizures, Dizziness</td>\n",
       "      <td>Stroke</td>\n",
       "    </tr>\n",
       "    <tr>\n",
       "      <th>3</th>\n",
       "      <td>6154</td>\n",
       "      <td>Ivana Baral</td>\n",
       "      <td>73</td>\n",
       "      <td>Male</td>\n",
       "      <td>0</td>\n",
       "      <td>0</td>\n",
       "      <td>Married</td>\n",
       "      <td>Never Worked</td>\n",
       "      <td>Urban</td>\n",
       "      <td>185.29</td>\n",
       "      <td>...</td>\n",
       "      <td>Frequent Drinker</td>\n",
       "      <td>Moderate</td>\n",
       "      <td>0</td>\n",
       "      <td>No</td>\n",
       "      <td>Paleo</td>\n",
       "      <td>5.35</td>\n",
       "      <td>174/81</td>\n",
       "      <td>HDL: 70, LDL: 137</td>\n",
       "      <td>Seizures, Blurred Vision, Severe Fatigue, Head...</td>\n",
       "      <td>No Stroke</td>\n",
       "    </tr>\n",
       "    <tr>\n",
       "      <th>4</th>\n",
       "      <td>48973</td>\n",
       "      <td>Darshit Jayaraman</td>\n",
       "      <td>51</td>\n",
       "      <td>Male</td>\n",
       "      <td>1</td>\n",
       "      <td>1</td>\n",
       "      <td>Divorced</td>\n",
       "      <td>Self-employed</td>\n",
       "      <td>Urban</td>\n",
       "      <td>177.34</td>\n",
       "      <td>...</td>\n",
       "      <td>Rarely</td>\n",
       "      <td>Low</td>\n",
       "      <td>0</td>\n",
       "      <td>Yes</td>\n",
       "      <td>Pescatarian</td>\n",
       "      <td>6.84</td>\n",
       "      <td>121/95</td>\n",
       "      <td>HDL: 65, LDL: 68</td>\n",
       "      <td>Difficulty Speaking</td>\n",
       "      <td>Stroke</td>\n",
       "    </tr>\n",
       "  </tbody>\n",
       "</table>\n",
       "<p>5 rows × 22 columns</p>\n",
       "</div>"
      ],
      "text/plain": [
       "   Patient ID       Patient Name  Age Gender  Hypertension  Heart Disease  \\\n",
       "0       18153    Mamooty Khurana   56   Male             0              1   \n",
       "1       62749  Kaira Subramaniam   80   Male             0              0   \n",
       "2       32145      Dhanush Balan   26   Male             1              1   \n",
       "3        6154        Ivana Baral   73   Male             0              0   \n",
       "4       48973  Darshit Jayaraman   51   Male             1              1   \n",
       "\n",
       "  Marital Status      Work Type Residence Type  Average Glucose Level  ...  \\\n",
       "0        Married  Self-employed          Rural                 130.91  ...   \n",
       "1         Single  Self-employed          Urban                 183.73  ...   \n",
       "2        Married   Never Worked          Rural                 189.00  ...   \n",
       "3        Married   Never Worked          Urban                 185.29  ...   \n",
       "4       Divorced  Self-employed          Urban                 177.34  ...   \n",
       "\n",
       "     Alcohol Intake Physical Activity Stroke History Family History of Stroke  \\\n",
       "0    Social Drinker          Moderate              0                      Yes   \n",
       "1             Never               Low              0                       No   \n",
       "2            Rarely              High              0                      Yes   \n",
       "3  Frequent Drinker          Moderate              0                       No   \n",
       "4            Rarely               Low              0                      Yes   \n",
       "\n",
       "   Dietary Habits Stress Levels Blood Pressure Levels  Cholesterol Levels  \\\n",
       "0           Vegan          3.48               140/108   HDL: 68, LDL: 133   \n",
       "1           Paleo          1.73                146/91    HDL: 63, LDL: 70   \n",
       "2           Paleo          7.31                154/97    HDL: 59, LDL: 95   \n",
       "3           Paleo          5.35                174/81   HDL: 70, LDL: 137   \n",
       "4     Pescatarian          6.84                121/95    HDL: 65, LDL: 68   \n",
       "\n",
       "                                            Symptoms  Diagnosis  \n",
       "0                      Difficulty Speaking, Headache     Stroke  \n",
       "1    Loss of Balance, Headache, Dizziness, Confusion     Stroke  \n",
       "2                                Seizures, Dizziness     Stroke  \n",
       "3  Seizures, Blurred Vision, Severe Fatigue, Head...  No Stroke  \n",
       "4                                Difficulty Speaking     Stroke  \n",
       "\n",
       "[5 rows x 22 columns]"
      ]
     },
     "execution_count": 176,
     "metadata": {},
     "output_type": "execute_result"
    }
   ],
   "source": [
    "df.head()"
   ]
  },
  {
   "cell_type": "code",
   "execution_count": 177,
   "metadata": {},
   "outputs": [
    {
     "name": "stdout",
     "output_type": "stream",
     "text": [
      "<class 'pandas.core.frame.DataFrame'>\n",
      "RangeIndex: 15000 entries, 0 to 14999\n",
      "Data columns (total 22 columns):\n",
      " #   Column                    Non-Null Count  Dtype  \n",
      "---  ------                    --------------  -----  \n",
      " 0   Patient ID                15000 non-null  int64  \n",
      " 1   Patient Name              15000 non-null  object \n",
      " 2   Age                       15000 non-null  int64  \n",
      " 3   Gender                    15000 non-null  object \n",
      " 4   Hypertension              15000 non-null  int64  \n",
      " 5   Heart Disease             15000 non-null  int64  \n",
      " 6   Marital Status            15000 non-null  object \n",
      " 7   Work Type                 15000 non-null  object \n",
      " 8   Residence Type            15000 non-null  object \n",
      " 9   Average Glucose Level     15000 non-null  float64\n",
      " 10  Body Mass Index (BMI)     15000 non-null  float64\n",
      " 11  Smoking Status            15000 non-null  object \n",
      " 12  Alcohol Intake            15000 non-null  object \n",
      " 13  Physical Activity         15000 non-null  object \n",
      " 14  Stroke History            15000 non-null  int64  \n",
      " 15  Family History of Stroke  15000 non-null  object \n",
      " 16  Dietary Habits            15000 non-null  object \n",
      " 17  Stress Levels             15000 non-null  float64\n",
      " 18  Blood Pressure Levels     15000 non-null  object \n",
      " 19  Cholesterol Levels        15000 non-null  object \n",
      " 20  Symptoms                  12500 non-null  object \n",
      " 21  Diagnosis                 15000 non-null  object \n",
      "dtypes: float64(3), int64(5), object(14)\n",
      "memory usage: 2.5+ MB\n"
     ]
    }
   ],
   "source": [
    "df.info()"
   ]
  },
  {
   "cell_type": "code",
   "execution_count": 178,
   "metadata": {},
   "outputs": [
    {
     "data": {
      "text/html": [
       "<div>\n",
       "<style scoped>\n",
       "    .dataframe tbody tr th:only-of-type {\n",
       "        vertical-align: middle;\n",
       "    }\n",
       "\n",
       "    .dataframe tbody tr th {\n",
       "        vertical-align: top;\n",
       "    }\n",
       "\n",
       "    .dataframe thead th {\n",
       "        text-align: right;\n",
       "    }\n",
       "</style>\n",
       "<table border=\"1\" class=\"dataframe\">\n",
       "  <thead>\n",
       "    <tr style=\"text-align: right;\">\n",
       "      <th></th>\n",
       "      <th>Patient ID</th>\n",
       "      <th>Age</th>\n",
       "      <th>Hypertension</th>\n",
       "      <th>Heart Disease</th>\n",
       "      <th>Average Glucose Level</th>\n",
       "      <th>Body Mass Index (BMI)</th>\n",
       "      <th>Stroke History</th>\n",
       "      <th>Stress Levels</th>\n",
       "    </tr>\n",
       "  </thead>\n",
       "  <tbody>\n",
       "    <tr>\n",
       "      <th>count</th>\n",
       "      <td>15000.000000</td>\n",
       "      <td>15000.000000</td>\n",
       "      <td>15000.000000</td>\n",
       "      <td>15000.000000</td>\n",
       "      <td>15000.000000</td>\n",
       "      <td>15000.000000</td>\n",
       "      <td>15000.000000</td>\n",
       "      <td>15000.000000</td>\n",
       "    </tr>\n",
       "    <tr>\n",
       "      <th>mean</th>\n",
       "      <td>49715.802867</td>\n",
       "      <td>54.035667</td>\n",
       "      <td>0.249000</td>\n",
       "      <td>0.502933</td>\n",
       "      <td>129.445209</td>\n",
       "      <td>27.474302</td>\n",
       "      <td>0.500267</td>\n",
       "      <td>5.022694</td>\n",
       "    </tr>\n",
       "    <tr>\n",
       "      <th>std</th>\n",
       "      <td>29000.656642</td>\n",
       "      <td>21.063111</td>\n",
       "      <td>0.432448</td>\n",
       "      <td>0.500008</td>\n",
       "      <td>40.487792</td>\n",
       "      <td>7.230201</td>\n",
       "      <td>0.500017</td>\n",
       "      <td>2.873223</td>\n",
       "    </tr>\n",
       "    <tr>\n",
       "      <th>min</th>\n",
       "      <td>1.000000</td>\n",
       "      <td>18.000000</td>\n",
       "      <td>0.000000</td>\n",
       "      <td>0.000000</td>\n",
       "      <td>60.000000</td>\n",
       "      <td>15.010000</td>\n",
       "      <td>0.000000</td>\n",
       "      <td>0.000000</td>\n",
       "    </tr>\n",
       "    <tr>\n",
       "      <th>25%</th>\n",
       "      <td>24562.000000</td>\n",
       "      <td>36.000000</td>\n",
       "      <td>0.000000</td>\n",
       "      <td>0.000000</td>\n",
       "      <td>94.517500</td>\n",
       "      <td>21.160000</td>\n",
       "      <td>0.000000</td>\n",
       "      <td>2.540000</td>\n",
       "    </tr>\n",
       "    <tr>\n",
       "      <th>50%</th>\n",
       "      <td>49448.000000</td>\n",
       "      <td>54.000000</td>\n",
       "      <td>0.000000</td>\n",
       "      <td>1.000000</td>\n",
       "      <td>128.900000</td>\n",
       "      <td>27.420000</td>\n",
       "      <td>1.000000</td>\n",
       "      <td>5.050000</td>\n",
       "    </tr>\n",
       "    <tr>\n",
       "      <th>75%</th>\n",
       "      <td>75112.000000</td>\n",
       "      <td>72.000000</td>\n",
       "      <td>0.000000</td>\n",
       "      <td>1.000000</td>\n",
       "      <td>164.592500</td>\n",
       "      <td>33.720000</td>\n",
       "      <td>1.000000</td>\n",
       "      <td>7.520000</td>\n",
       "    </tr>\n",
       "    <tr>\n",
       "      <th>max</th>\n",
       "      <td>99975.000000</td>\n",
       "      <td>90.000000</td>\n",
       "      <td>1.000000</td>\n",
       "      <td>1.000000</td>\n",
       "      <td>200.000000</td>\n",
       "      <td>40.000000</td>\n",
       "      <td>1.000000</td>\n",
       "      <td>10.000000</td>\n",
       "    </tr>\n",
       "  </tbody>\n",
       "</table>\n",
       "</div>"
      ],
      "text/plain": [
       "         Patient ID           Age  Hypertension  Heart Disease  \\\n",
       "count  15000.000000  15000.000000  15000.000000   15000.000000   \n",
       "mean   49715.802867     54.035667      0.249000       0.502933   \n",
       "std    29000.656642     21.063111      0.432448       0.500008   \n",
       "min        1.000000     18.000000      0.000000       0.000000   \n",
       "25%    24562.000000     36.000000      0.000000       0.000000   \n",
       "50%    49448.000000     54.000000      0.000000       1.000000   \n",
       "75%    75112.000000     72.000000      0.000000       1.000000   \n",
       "max    99975.000000     90.000000      1.000000       1.000000   \n",
       "\n",
       "       Average Glucose Level  Body Mass Index (BMI)  Stroke History  \\\n",
       "count           15000.000000           15000.000000    15000.000000   \n",
       "mean              129.445209              27.474302        0.500267   \n",
       "std                40.487792               7.230201        0.500017   \n",
       "min                60.000000              15.010000        0.000000   \n",
       "25%                94.517500              21.160000        0.000000   \n",
       "50%               128.900000              27.420000        1.000000   \n",
       "75%               164.592500              33.720000        1.000000   \n",
       "max               200.000000              40.000000        1.000000   \n",
       "\n",
       "       Stress Levels  \n",
       "count   15000.000000  \n",
       "mean        5.022694  \n",
       "std         2.873223  \n",
       "min         0.000000  \n",
       "25%         2.540000  \n",
       "50%         5.050000  \n",
       "75%         7.520000  \n",
       "max        10.000000  "
      ]
     },
     "execution_count": 178,
     "metadata": {},
     "output_type": "execute_result"
    }
   ],
   "source": [
    "df.describe()"
   ]
  },
  {
   "cell_type": "code",
   "execution_count": 179,
   "metadata": {},
   "outputs": [
    {
     "data": {
      "text/plain": [
       "Index(['Patient ID', 'Patient Name', 'Age', 'Gender', 'Hypertension',\n",
       "       'Heart Disease', 'Marital Status', 'Work Type', 'Residence Type',\n",
       "       'Average Glucose Level', 'Body Mass Index (BMI)', 'Smoking Status',\n",
       "       'Alcohol Intake', 'Physical Activity', 'Stroke History',\n",
       "       'Family History of Stroke', 'Dietary Habits', 'Stress Levels',\n",
       "       'Blood Pressure Levels', 'Cholesterol Levels', 'Symptoms', 'Diagnosis'],\n",
       "      dtype='object')"
      ]
     },
     "execution_count": 179,
     "metadata": {},
     "output_type": "execute_result"
    }
   ],
   "source": [
    "df.columns"
   ]
  },
  {
   "cell_type": "code",
   "execution_count": 180,
   "metadata": {},
   "outputs": [],
   "source": [
    "df.columns = df.columns.str.replace(\" \",\"_\").str.lower().str.strip()"
   ]
  },
  {
   "cell_type": "code",
   "execution_count": 181,
   "metadata": {},
   "outputs": [
    {
     "data": {
      "text/plain": [
       "Index(['patient_id', 'patient_name', 'age', 'gender', 'hypertension',\n",
       "       'heart_disease', 'marital_status', 'work_type', 'residence_type',\n",
       "       'average_glucose_level', 'body_mass_index_(bmi)', 'smoking_status',\n",
       "       'alcohol_intake', 'physical_activity', 'stroke_history',\n",
       "       'family_history_of_stroke', 'dietary_habits', 'stress_levels',\n",
       "       'blood_pressure_levels', 'cholesterol_levels', 'symptoms', 'diagnosis'],\n",
       "      dtype='object')"
      ]
     },
     "execution_count": 181,
     "metadata": {},
     "output_type": "execute_result"
    }
   ],
   "source": [
    "df.columns"
   ]
  },
  {
   "cell_type": "code",
   "execution_count": 182,
   "metadata": {},
   "outputs": [
    {
     "data": {
      "text/plain": [
       "np.int64(0)"
      ]
     },
     "execution_count": 182,
     "metadata": {},
     "output_type": "execute_result"
    }
   ],
   "source": [
    "df.duplicated().sum()"
   ]
  },
  {
   "cell_type": "code",
   "execution_count": 183,
   "metadata": {},
   "outputs": [
    {
     "data": {
      "text/plain": [
       "patient_id                     0\n",
       "patient_name                   0\n",
       "age                            0\n",
       "gender                         0\n",
       "hypertension                   0\n",
       "heart_disease                  0\n",
       "marital_status                 0\n",
       "work_type                      0\n",
       "residence_type                 0\n",
       "average_glucose_level          0\n",
       "body_mass_index_(bmi)          0\n",
       "smoking_status                 0\n",
       "alcohol_intake                 0\n",
       "physical_activity              0\n",
       "stroke_history                 0\n",
       "family_history_of_stroke       0\n",
       "dietary_habits                 0\n",
       "stress_levels                  0\n",
       "blood_pressure_levels          0\n",
       "cholesterol_levels             0\n",
       "symptoms                    2500\n",
       "diagnosis                      0\n",
       "dtype: int64"
      ]
     },
     "execution_count": 183,
     "metadata": {},
     "output_type": "execute_result"
    }
   ],
   "source": [
    "df.isnull().sum()"
   ]
  },
  {
   "cell_type": "code",
   "execution_count": 184,
   "metadata": {},
   "outputs": [
    {
     "data": {
      "text/plain": [
       "patient_id                   0.000000\n",
       "patient_name                 0.000000\n",
       "age                          0.000000\n",
       "gender                       0.000000\n",
       "hypertension                 0.000000\n",
       "heart_disease                0.000000\n",
       "marital_status               0.000000\n",
       "work_type                    0.000000\n",
       "residence_type               0.000000\n",
       "average_glucose_level        0.000000\n",
       "body_mass_index_(bmi)        0.000000\n",
       "smoking_status               0.000000\n",
       "alcohol_intake               0.000000\n",
       "physical_activity            0.000000\n",
       "stroke_history               0.000000\n",
       "family_history_of_stroke     0.000000\n",
       "dietary_habits               0.000000\n",
       "stress_levels                0.000000\n",
       "blood_pressure_levels        0.000000\n",
       "cholesterol_levels           0.000000\n",
       "symptoms                    16.666667\n",
       "diagnosis                    0.000000\n",
       "dtype: float64"
      ]
     },
     "execution_count": 184,
     "metadata": {},
     "output_type": "execute_result"
    }
   ],
   "source": [
    "df.isnull().mean()*100"
   ]
  },
  {
   "cell_type": "code",
   "execution_count": 185,
   "metadata": {},
   "outputs": [
    {
     "data": {
      "text/plain": [
       "age\n",
       "33    244\n",
       "45    236\n",
       "89    232\n",
       "75    229\n",
       "68    228\n",
       "     ... \n",
       "56    181\n",
       "81    179\n",
       "44    179\n",
       "60    177\n",
       "80    173\n",
       "Name: count, Length: 73, dtype: int64"
      ]
     },
     "execution_count": 185,
     "metadata": {},
     "output_type": "execute_result"
    }
   ],
   "source": [
    "df[\"age\"].value_counts()"
   ]
  },
  {
   "cell_type": "code",
   "execution_count": 186,
   "metadata": {},
   "outputs": [
    {
     "data": {
      "text/plain": [
       "gender\n",
       "Male      7622\n",
       "Female    7378\n",
       "Name: count, dtype: int64"
      ]
     },
     "execution_count": 186,
     "metadata": {},
     "output_type": "execute_result"
    }
   ],
   "source": [
    "df[\"gender\"].value_counts()"
   ]
  },
  {
   "cell_type": "code",
   "execution_count": 187,
   "metadata": {},
   "outputs": [
    {
     "data": {
      "text/plain": [
       "hypertension\n",
       "0    11265\n",
       "1     3735\n",
       "Name: count, dtype: int64"
      ]
     },
     "execution_count": 187,
     "metadata": {},
     "output_type": "execute_result"
    }
   ],
   "source": [
    "df[\"hypertension\"].value_counts()"
   ]
  },
  {
   "cell_type": "code",
   "execution_count": 188,
   "metadata": {},
   "outputs": [
    {
     "data": {
      "text/plain": [
       "heart_disease\n",
       "1    7544\n",
       "0    7456\n",
       "Name: count, dtype: int64"
      ]
     },
     "execution_count": 188,
     "metadata": {},
     "output_type": "execute_result"
    }
   ],
   "source": [
    "df[\"heart_disease\"].value_counts()"
   ]
  },
  {
   "cell_type": "code",
   "execution_count": 189,
   "metadata": {},
   "outputs": [
    {
     "data": {
      "text/plain": [
       "marital_status\n",
       "Single      5156\n",
       "Divorced    4980\n",
       "Married     4864\n",
       "Name: count, dtype: int64"
      ]
     },
     "execution_count": 189,
     "metadata": {},
     "output_type": "execute_result"
    }
   ],
   "source": [
    "df[\"marital_status\"].value_counts()"
   ]
  },
  {
   "cell_type": "code",
   "execution_count": 190,
   "metadata": {},
   "outputs": [
    {
     "data": {
      "text/plain": [
       "work_type\n",
       "Private           3863\n",
       "Self-employed     3855\n",
       "Government Job    3710\n",
       "Never Worked      3572\n",
       "Name: count, dtype: int64"
      ]
     },
     "execution_count": 190,
     "metadata": {},
     "output_type": "execute_result"
    }
   ],
   "source": [
    "df[\"work_type\"].value_counts()"
   ]
  },
  {
   "cell_type": "code",
   "execution_count": 191,
   "metadata": {},
   "outputs": [
    {
     "data": {
      "text/plain": [
       "residence_type\n",
       "Rural    7529\n",
       "Urban    7471\n",
       "Name: count, dtype: int64"
      ]
     },
     "execution_count": 191,
     "metadata": {},
     "output_type": "execute_result"
    }
   ],
   "source": [
    "df[\"residence_type\"].value_counts()"
   ]
  },
  {
   "cell_type": "code",
   "execution_count": 192,
   "metadata": {},
   "outputs": [
    {
     "data": {
      "text/plain": [
       "average_glucose_level\n",
       "167.06    7\n",
       "113.70    6\n",
       "133.94    6\n",
       "66.66     6\n",
       "70.18     6\n",
       "         ..\n",
       "191.32    1\n",
       "162.42    1\n",
       "161.23    1\n",
       "161.14    1\n",
       "130.71    1\n",
       "Name: count, Length: 9215, dtype: int64"
      ]
     },
     "execution_count": 192,
     "metadata": {},
     "output_type": "execute_result"
    }
   ],
   "source": [
    "df[\"average_glucose_level\"].value_counts()"
   ]
  },
  {
   "cell_type": "code",
   "execution_count": 193,
   "metadata": {},
   "outputs": [
    {
     "data": {
      "text/plain": [
       "body_mass_index_(bmi)\n",
       "20.59    16\n",
       "22.34    15\n",
       "15.85    15\n",
       "36.10    15\n",
       "23.70    14\n",
       "         ..\n",
       "37.18     1\n",
       "27.75     1\n",
       "20.64     1\n",
       "39.34     1\n",
       "22.18     1\n",
       "Name: count, Length: 2490, dtype: int64"
      ]
     },
     "execution_count": 193,
     "metadata": {},
     "output_type": "execute_result"
    }
   ],
   "source": [
    "df[\"body_mass_index_(bmi)\"].value_counts()"
   ]
  },
  {
   "cell_type": "code",
   "execution_count": 194,
   "metadata": {},
   "outputs": [
    {
     "data": {
      "text/plain": [
       "smoking_status\n",
       "Currently Smokes    5011\n",
       "Non-smoker          5009\n",
       "Formerly Smoked     4980\n",
       "Name: count, dtype: int64"
      ]
     },
     "execution_count": 194,
     "metadata": {},
     "output_type": "execute_result"
    }
   ],
   "source": [
    "df[\"smoking_status\"].value_counts()"
   ]
  },
  {
   "cell_type": "code",
   "execution_count": 195,
   "metadata": {},
   "outputs": [
    {
     "data": {
      "text/plain": [
       "alcohol_intake\n",
       "Rarely              3821\n",
       "Social Drinker      3745\n",
       "Never               3729\n",
       "Frequent Drinker    3705\n",
       "Name: count, dtype: int64"
      ]
     },
     "execution_count": 195,
     "metadata": {},
     "output_type": "execute_result"
    }
   ],
   "source": [
    "df[\"alcohol_intake\"].value_counts()"
   ]
  },
  {
   "cell_type": "code",
   "execution_count": 196,
   "metadata": {},
   "outputs": [
    {
     "data": {
      "text/plain": [
       "physical_activity\n",
       "High        5060\n",
       "Moderate    4998\n",
       "Low         4942\n",
       "Name: count, dtype: int64"
      ]
     },
     "execution_count": 196,
     "metadata": {},
     "output_type": "execute_result"
    }
   ],
   "source": [
    "df[\"physical_activity\"].value_counts()"
   ]
  },
  {
   "cell_type": "code",
   "execution_count": 197,
   "metadata": {},
   "outputs": [
    {
     "data": {
      "text/plain": [
       "stroke_history\n",
       "1    7504\n",
       "0    7496\n",
       "Name: count, dtype: int64"
      ]
     },
     "execution_count": 197,
     "metadata": {},
     "output_type": "execute_result"
    }
   ],
   "source": [
    "df[\"stroke_history\"].value_counts()"
   ]
  },
  {
   "cell_type": "code",
   "execution_count": 198,
   "metadata": {},
   "outputs": [
    {
     "data": {
      "text/plain": [
       "family_history_of_stroke\n",
       "Yes    7592\n",
       "No     7408\n",
       "Name: count, dtype: int64"
      ]
     },
     "execution_count": 198,
     "metadata": {},
     "output_type": "execute_result"
    }
   ],
   "source": [
    "df[\"family_history_of_stroke\"].value_counts()"
   ]
  },
  {
   "cell_type": "code",
   "execution_count": 199,
   "metadata": {},
   "outputs": [
    {
     "data": {
      "text/plain": [
       "dietary_habits\n",
       "Paleo             2192\n",
       "Vegan             2185\n",
       "Vegetarian        2170\n",
       "Non-Vegetarian    2144\n",
       "Keto              2135\n",
       "Pescatarian       2106\n",
       "Gluten-Free       2068\n",
       "Name: count, dtype: int64"
      ]
     },
     "execution_count": 199,
     "metadata": {},
     "output_type": "execute_result"
    }
   ],
   "source": [
    "df[\"dietary_habits\"].value_counts()"
   ]
  },
  {
   "cell_type": "code",
   "execution_count": 200,
   "metadata": {},
   "outputs": [
    {
     "data": {
      "text/plain": [
       "stress_levels\n",
       "2.08     30\n",
       "6.32     30\n",
       "9.05     29\n",
       "2.49     27\n",
       "0.44     27\n",
       "         ..\n",
       "4.24      6\n",
       "3.41      6\n",
       "5.89      4\n",
       "10.00     3\n",
       "5.63      3\n",
       "Name: count, Length: 1001, dtype: int64"
      ]
     },
     "execution_count": 200,
     "metadata": {},
     "output_type": "execute_result"
    }
   ],
   "source": [
    "df[\"stress_levels\"].value_counts()"
   ]
  },
  {
   "cell_type": "code",
   "execution_count": 201,
   "metadata": {},
   "outputs": [
    {
     "data": {
      "text/plain": [
       "blood_pressure_levels\n",
       "96/70      14\n",
       "157/73     12\n",
       "112/81     11\n",
       "141/74     11\n",
       "160/67     11\n",
       "           ..\n",
       "165/97      1\n",
       "151/102     1\n",
       "121/104     1\n",
       "97/99       1\n",
       "172/83      1\n",
       "Name: count, Length: 4458, dtype: int64"
      ]
     },
     "execution_count": 201,
     "metadata": {},
     "output_type": "execute_result"
    }
   ],
   "source": [
    "df[\"blood_pressure_levels\"].value_counts()"
   ]
  },
  {
   "cell_type": "code",
   "execution_count": 202,
   "metadata": {},
   "outputs": [
    {
     "data": {
      "text/plain": [
       "cholesterol_levels\n",
       "HDL: 50, LDL: 185    9\n",
       "HDL: 45, LDL: 146    9\n",
       "HDL: 74, LDL: 91     9\n",
       "HDL: 77, LDL: 88     9\n",
       "HDL: 74, LDL: 144    8\n",
       "                    ..\n",
       "HDL: 68, LDL: 62     1\n",
       "HDL: 75, LDL: 135    1\n",
       "HDL: 71, LDL: 150    1\n",
       "HDL: 69, LDL: 97     1\n",
       "HDL: 69, LDL: 98     1\n",
       "Name: count, Length: 5952, dtype: int64"
      ]
     },
     "execution_count": 202,
     "metadata": {},
     "output_type": "execute_result"
    }
   ],
   "source": [
    "df[\"cholesterol_levels\"].value_counts()"
   ]
  },
  {
   "cell_type": "code",
   "execution_count": 203,
   "metadata": {},
   "outputs": [
    {
     "data": {
      "text/plain": [
       "symptoms\n",
       "Difficulty Speaking                                                         268\n",
       "Numbness                                                                    254\n",
       "Headache                                                                    253\n",
       "Blurred Vision                                                              251\n",
       "Seizures                                                                    249\n",
       "                                                                           ... \n",
       "Numbness, Numbness, Blurred Vision, Severe Fatigue                            1\n",
       "Loss of Balance, Dizziness, Headache, Confusion                               1\n",
       "Dizziness, Blurred Vision, Weakness, Headache, Confusion                      1\n",
       "Numbness, Difficulty Speaking, Loss of Balance, Headache, Severe Fatigue      1\n",
       "Severe Fatigue, Numbness, Confusion, Dizziness, Loss of Balance               1\n",
       "Name: count, Length: 5786, dtype: int64"
      ]
     },
     "execution_count": 203,
     "metadata": {},
     "output_type": "execute_result"
    }
   ],
   "source": [
    "df[\"symptoms\"].value_counts()"
   ]
  },
  {
   "cell_type": "code",
   "execution_count": 204,
   "metadata": {},
   "outputs": [
    {
     "data": {
      "text/plain": [
       "diagnosis\n",
       "No Stroke    7532\n",
       "Stroke       7468\n",
       "Name: count, dtype: int64"
      ]
     },
     "execution_count": 204,
     "metadata": {},
     "output_type": "execute_result"
    }
   ],
   "source": [
    "df[\"diagnosis\"].value_counts()"
   ]
  },
  {
   "cell_type": "markdown",
   "metadata": {},
   "source": [
    "# Data PreProcessing"
   ]
  },
  {
   "cell_type": "code",
   "execution_count": 205,
   "metadata": {},
   "outputs": [],
   "source": [
    "df[\"age_group\"]=df[\"age\"].apply(lambda x:\"Infant\" if (x>=0)&(x<=2)\n",
    "                                  else (\"Child\" if (x>2)&(x<=12)\n",
    "                                  else (\"Adolescent\"if (x>12)&(x<=18)  \n",
    "                                  else (\"Young Adults\"if (x>19)&(x<=35)  \n",
    "                                  else (\"Middle Aged Adults\" if (x>35)&(x<=60) \n",
    "                                  else \"Old Aged Adults\")))))"
   ]
  },
  {
   "cell_type": "code",
   "execution_count": 206,
   "metadata": {},
   "outputs": [],
   "source": [
    "df[\"glucose_category\"] = df[\"average_glucose_level\"].apply(\n",
    "    lambda x: \"Normal\" if x < 140 else \n",
    "              (\"Prediabetes\" if x < 200 else \"Diabetes\")\n",
    ")"
   ]
  },
  {
   "cell_type": "code",
   "execution_count": 207,
   "metadata": {},
   "outputs": [],
   "source": [
    "df[\"status_of_bmi\"] = df[\"body_mass_index_(bmi)\"].apply(lambda x:\"Underweight\" if x<18.5\n",
    "                                  else (\"Normal weight\" if (x>=18.5)&(x<+24.9)\n",
    "                                  else (\"Overweight\"if (x>=25)&(x<=29.9)  \n",
    "                                  else \"Obesity\")))"
   ]
  },
  {
   "cell_type": "code",
   "execution_count": 208,
   "metadata": {},
   "outputs": [],
   "source": [
    "df[\"blood_pressure_levels\"] = df[\"blood_pressure_levels\"].str.split(\"/\").apply(lambda x: [int(x[0]), int(x[1])])\n"
   ]
  },
  {
   "cell_type": "code",
   "execution_count": 209,
   "metadata": {},
   "outputs": [],
   "source": [
    "df[\"blood_pressure_category\"] = df[\"blood_pressure_levels\"].apply(\n",
    "    lambda bp: \"Low Blood Pressure\" if bp[0] < 90 and bp[1] < 60 else\n",
    "               \"Normal\" if 90 <= bp[0] <= 120 and 60 <= bp[1] <= 80 else\n",
    "               \"Prehypertension\" if 120 < bp[0] <= 139 or 80 < bp[1] <= 89 else\n",
    "               \"Hypertension Stage 1\" if 140 <= bp[0] <= 159 or 90 <= bp[1] <= 99 else\n",
    "               \"Hypertension Stage 2\" if 160 <= bp[0] <= 179 or 100 <= bp[1] <= 109 else\n",
    "               \"Hypertension Stage 3\"\n",
    ")"
   ]
  },
  {
   "cell_type": "code",
   "execution_count": 210,
   "metadata": {},
   "outputs": [],
   "source": [
    "df[\"cholesterol_levels\"] =df[\"cholesterol_levels\"].str.replace(\",\",\" \").str.split()"
   ]
  },
  {
   "cell_type": "code",
   "execution_count": 211,
   "metadata": {},
   "outputs": [],
   "source": [
    "df[\"status_of_HDL\"] = df[\"cholesterol_levels\"].apply(lambda x:\"Low\" if int(x[1])<50 \n",
    "                                                     else (\"Acceptable\" if (int(x[1])>=50)&(int(x[1])<60)\n",
    "                                                        else \"High\"))"
   ]
  },
  {
   "cell_type": "code",
   "execution_count": 212,
   "metadata": {},
   "outputs": [],
   "source": [
    "df[\"status_of_LDL\"] = df[\"cholesterol_levels\"].apply(lambda x:\"Optimal\" if int(x[3])<100 \n",
    "                                                     else (\"Near Optimal\" if (int(x[3])>=100)&(int(x[3])<130)\n",
    "                                                        else( \"Borderline High\" if (int(x[3])>=130)&(int(x[3])<160)\n",
    "                                                        else( \"High\" if (int(x[3])>=160)&(int(x[3])<190)\n",
    "                                                        else \"Very High\"))))"
   ]
  },
  {
   "cell_type": "code",
   "execution_count": 213,
   "metadata": {},
   "outputs": [],
   "source": [
    "df[\"symptoms\"] = df[\"symptoms\"].fillna(df[\"symptoms\"].mode()[0])\n",
    "mlb = MultiLabelBinarizer()\n",
    "symptoms_encoded = mlb.fit_transform(df[\"symptoms\"].str.split(\", \"))\n",
    "symptoms_df = pd.DataFrame(symptoms_encoded, columns=mlb.classes_, index=df.index)\n",
    "df = df.join(symptoms_df)"
   ]
  },
  {
   "cell_type": "code",
   "execution_count": 214,
   "metadata": {},
   "outputs": [],
   "source": [
    "df.drop(columns=[\"patient_name\", \"patient_id\", \"blood_pressure_levels\", \n",
    "                 \"cholesterol_levels\", \"symptoms\"], \n",
    "        inplace=True)"
   ]
  },
  {
   "cell_type": "code",
   "execution_count": 215,
   "metadata": {},
   "outputs": [],
   "source": [
    "df.to_csv(\"50%.csv\", index=False)"
   ]
  },
  {
   "cell_type": "markdown",
   "metadata": {},
   "source": [
    "# Data Visualization"
   ]
  },
  {
   "cell_type": "code",
   "execution_count": null,
   "metadata": {},
   "outputs": [],
   "source": [
    "cat_col = df.select_dtypes(include=object).columns\n",
    "cat_col = [col for col in cat_col if col != \"Symptoms\"]"
   ]
  },
  {
   "cell_type": "code",
   "execution_count": null,
   "metadata": {},
   "outputs": [],
   "source": [
    "for col in cat_col:\n",
    "    fig = px.histogram(df, x=col, color=\"diagnosis\", title=f\"Histogram of {col} by diagnosis\")\n",
    "    fig.write_html(f\"histogram_{col}.html\")"
   ]
  },
  {
   "cell_type": "code",
   "execution_count": null,
   "metadata": {},
   "outputs": [],
   "source": [
    "for col in cat_col:\n",
    "    count_series = df[col].value_counts()\n",
    "    count_df = count_series.reset_index()\n",
    "    count_df.columns = [col, \"count\"]\n",
    "    \n",
    "    fig = px.pie(count_df, names=col, values=\"count\", title=f\"Pie chart of {col}\")\n",
    "    fig.write_html(f\"pie_{col}.html\")  "
   ]
  },
  {
   "cell_type": "markdown",
   "metadata": {},
   "source": [
    "# Data Transformation"
   ]
  },
  {
   "cell_type": "code",
   "execution_count": 219,
   "metadata": {},
   "outputs": [],
   "source": [
    "df[\"gender\"] = df[\"gender\"].map({\"Male\": 1, \"Female\": 0})"
   ]
  },
  {
   "cell_type": "code",
   "execution_count": 220,
   "metadata": {},
   "outputs": [],
   "source": [
    "df[\"residence_type\"] = df[\"residence_type\"].map({\"Rural\": 0, \"Urban\": 1})"
   ]
  },
  {
   "cell_type": "code",
   "execution_count": 221,
   "metadata": {},
   "outputs": [],
   "source": [
    "df[\"family_history_of_stroke\"] = df[\"family_history_of_stroke\"].map({\"Yes\": 1, \"No\": 0})"
   ]
  },
  {
   "cell_type": "code",
   "execution_count": 222,
   "metadata": {},
   "outputs": [],
   "source": [
    "df[\"diagnosis\"] = df[\"diagnosis\"].map({\"Stroke\": 1, \"No Stroke\": 0})"
   ]
  },
  {
   "cell_type": "code",
   "execution_count": 223,
   "metadata": {},
   "outputs": [],
   "source": [
    "categorical_cols = [\"marital_status\", \"work_type\", \"glucose_category\", \"smoking_status\",\n",
    "                   \"alcohol_intake\", \"physical_activity\", \"dietary_habits\", \"age_group\",\n",
    "                   \"status_of_bmi\", \"blood_pressure_category\", \"status_of_HDL\", \"status_of_LDL\"]"
   ]
  },
  {
   "cell_type": "code",
   "execution_count": 224,
   "metadata": {},
   "outputs": [],
   "source": [
    "df = pd.get_dummies(df, columns=categorical_cols, dtype=int)"
   ]
  },
  {
   "cell_type": "markdown",
   "metadata": {},
   "source": [
    "# Modeling"
   ]
  },
  {
   "cell_type": "code",
   "execution_count": 225,
   "metadata": {},
   "outputs": [],
   "source": [
    "X = df.drop(\"diagnosis\", axis=1)\n",
    "y = df[\"diagnosis\"]"
   ]
  },
  {
   "cell_type": "code",
   "execution_count": 226,
   "metadata": {},
   "outputs": [],
   "source": [
    "scaler = MinMaxScaler()\n",
    "numeric_cols = X.select_dtypes(include=['int64', 'float64']).columns\n",
    "X[numeric_cols] = scaler.fit_transform(X[numeric_cols])"
   ]
  },
  {
   "cell_type": "code",
   "execution_count": 227,
   "metadata": {},
   "outputs": [],
   "source": [
    "X_train, X_test, y_train, y_test = train_test_split(X, y, test_size=0.3, random_state=42, shuffle=True)"
   ]
  },
  {
   "cell_type": "code",
   "execution_count": 230,
   "metadata": {},
   "outputs": [
    {
     "name": "stdout",
     "output_type": "stream",
     "text": [
      "XGBoost Accuracy: 50.4 %\n"
     ]
    }
   ],
   "source": [
    "xgb = XGBClassifier(\n",
    "    eval_metric=\"logloss\",\n",
    "    random_state=42,\n",
    "    max_depth=7,\n",
    "    n_estimators=200,\n",
    "    learning_rate=0.1,\n",
    "    reg_alpha=0.0,\n",
    "    reg_lambda=0.0\n",
    ")\n",
    "xgb.fit(X_train, y_train)\n",
    "y_pred_xgb = xgb.predict(X_test)\n",
    "print(\"XGBoost Accuracy:\", round(accuracy_score(y_test, y_pred_xgb) * 100, 2), \"%\")"
   ]
  },
  {
   "cell_type": "code",
   "execution_count": null,
   "metadata": {},
   "outputs": [
    {
     "name": "stdout",
     "output_type": "stream",
     "text": [
      "[0]\ttrain-logloss:0.68633\tval-logloss:0.69361\n",
      "[10]\ttrain-logloss:0.64998\tval-logloss:0.69985\n",
      "[20]\ttrain-logloss:0.61643\tval-logloss:0.70238\n",
      "[30]\ttrain-logloss:0.58522\tval-logloss:0.70385\n",
      "[40]\ttrain-logloss:0.55720\tval-logloss:0.70788\n",
      "[50]\ttrain-logloss:0.53589\tval-logloss:0.71154\n",
      "[60]\ttrain-logloss:0.51798\tval-logloss:0.71286\n",
      "[70]\ttrain-logloss:0.49469\tval-logloss:0.71719\n",
      "[80]\ttrain-logloss:0.47308\tval-logloss:0.71864\n",
      "[90]\ttrain-logloss:0.45624\tval-logloss:0.72168\n",
      "[100]\ttrain-logloss:0.43340\tval-logloss:0.72475\n",
      "[110]\ttrain-logloss:0.41767\tval-logloss:0.72648\n",
      "[120]\ttrain-logloss:0.40476\tval-logloss:0.72759\n",
      "[130]\ttrain-logloss:0.39111\tval-logloss:0.72960\n",
      "[140]\ttrain-logloss:0.37520\tval-logloss:0.73118\n",
      "[150]\ttrain-logloss:0.36411\tval-logloss:0.73196\n",
      "[160]\ttrain-logloss:0.35080\tval-logloss:0.73425\n",
      "[170]\ttrain-logloss:0.34299\tval-logloss:0.73534\n",
      "[180]\ttrain-logloss:0.33248\tval-logloss:0.73808\n",
      "[190]\ttrain-logloss:0.31864\tval-logloss:0.74294\n",
      "[199]\ttrain-logloss:0.30718\tval-logloss:0.74520\n"
     ]
    },
    {
     "data": {
      "image/png": "[encoded data removed]",
      "text/plain": [
       "<Figure size 1000x600 with 1 Axes>"
      ]
     },
     "metadata": {},
     "output_type": "display_data"
    },
    {
     "data": {
      "image/png": "[encoded data removed]",
      "text/plain": [
       "<Figure size 1000x600 with 1 Axes>"
      ]
     },
     "metadata": {},
     "output_type": "display_data"
    },
    {
     "data": {
      "image/png": "[encoded data removed]",
      "text/plain": [
       "<Figure size 1000x600 with 1 Axes>"
      ]
     },
     "metadata": {},
     "output_type": "display_data"
    },
    {
     "name": "stdout",
     "output_type": "stream",
     "text": [
      "Final Test Accuracy: 50.4%\n",
      "Final Test AUROC: 0.5069\n"
     ]
    }
   ],
   "source": [
    "import xgboost as xgb\n",
    "import matplotlib.pyplot as plt\n",
    "from sklearn.metrics import roc_auc_score, accuracy_score\n",
    "import numpy as np\n",
    "from sklearn.model_selection import train_test_split\n",
    "\n",
    "# Giả sử X và y đã được tiền xử lý từ đoạn mã của bạn\n",
    "# Chia dữ liệu thành tập huấn luyện, validation và kiểm tra\n",
    "X_train, X_temp, y_train, y_temp = train_test_split(X, y, test_size=0.3, random_state=42, shuffle=True)\n",
    "X_val, X_test, y_val, y_test = train_test_split(X_temp, y_temp, test_size=0.5, random_state=42, shuffle=True)\n",
    "\n",
    "# Chuyển dữ liệu sang định dạng DMatrix\n",
    "dtrain = xgb.DMatrix(X_train, label=y_train)\n",
    "dval = xgb.DMatrix(X_val, label=y_val)\n",
    "dtest = xgb.DMatrix(X_test, label=y_test)\n",
    "\n",
    "# Thiết lập tham số cho XGBoost\n",
    "params = {\n",
    "    \"objective\": \"binary:logistic\",\n",
    "    \"eval_metric\": \"logloss\",\n",
    "    \"max_depth\": 7,\n",
    "    \"eta\": 0.1,  # learning_rate\n",
    "    \"alpha\": 0.0,\n",
    "    \"lambda\": 0.0,\n",
    "    \"seed\": 42\n",
    "}\n",
    "\n",
    "# Danh sách để lưu các chỉ số qua từng epoch\n",
    "train_loss = []\n",
    "val_loss = []\n",
    "train_auroc = []\n",
    "val_auroc = []\n",
    "train_accuracy = []\n",
    "val_accuracy = []\n",
    "\n",
    "# Huấn luyện mô hình và thu thập chỉ số\n",
    "num_rounds = 200\n",
    "evals_result = {}  # Lưu kết quả đánh giá\n",
    "bst = xgb.train(\n",
    "    params, \n",
    "    dtrain, \n",
    "    num_boost_round=num_rounds, \n",
    "    evals=[(dtrain, \"train\"), (dval, \"val\")], \n",
    "    evals_result=evals_result, \n",
    "    verbose_eval=10\n",
    ")\n",
    "\n",
    "# Thu thập các chỉ số qua từng epoch\n",
    "for i in range(num_rounds):\n",
    "    # Loss\n",
    "    train_loss.append(evals_result[\"train\"][\"logloss\"][i])\n",
    "    val_loss.append(evals_result[\"val\"][\"logloss\"][i])\n",
    "    \n",
    "    # Dự đoán xác suất\n",
    "    train_pred = bst.predict(dtrain, iteration_range=(0, i+1))\n",
    "    val_pred = bst.predict(dval, iteration_range=(0, i+1))\n",
    "    \n",
    "    # AUROC\n",
    "    train_auroc.append(roc_auc_score(y_train, train_pred))\n",
    "    val_auroc.append(roc_auc_score(y_val, val_pred))\n",
    "    \n",
    "    # Accuracy\n",
    "    train_pred_binary = [1 if p > 0.5 else 0 for p in train_pred]\n",
    "    val_pred_binary = [1 if p > 0.5 else 0 for p in val_pred]\n",
    "    train_accuracy.append(accuracy_score(y_train, train_pred_binary))\n",
    "    val_accuracy.append(accuracy_score(y_val, val_pred_binary))\n",
    "\n",
    "# Vẽ biểu đồ\n",
    "epochs = range(1, num_rounds + 1)\n",
    "\n",
    "# 1. Biểu đồ Loss\n",
    "plt.figure(figsize=(10, 6))\n",
    "plt.plot(epochs, train_loss, label=\"Train Loss\")\n",
    "plt.plot(epochs, val_loss, label=\"Validation Loss\")\n",
    "plt.title(\"Model Loss Over Epochs\")\n",
    "plt.xlabel(\"Epochs\")\n",
    "plt.ylabel(\"Log Loss\")\n",
    "plt.legend()\n",
    "plt.grid(True)\n",
    "plt.savefig(\"model_loss.png\")\n",
    "plt.show()\n",
    "\n",
    "# 2. Biểu đồ AUROC\n",
    "plt.figure(figsize=(10, 6))\n",
    "plt.plot(epochs, train_auroc, label=\"Train AUROC\")\n",
    "plt.plot(epochs, val_auroc, label=\"Validation AUROC\")\n",
    "plt.title(\"Model AUROC Over Epochs\")\n",
    "plt.xlabel(\"Epochs\")\n",
    "plt.ylabel(\"AUROC\")\n",
    "plt.legend()\n",
    "plt.grid(True)\n",
    "plt.savefig(\"model_auroc.png\")\n",
    "plt.show()\n",
    "\n",
    "# 3. Biểu đồ Accuracy\n",
    "plt.figure(figsize=(10, 6))\n",
    "plt.plot(epochs, train_accuracy, label=\"Train Accuracy\")\n",
    "plt.plot(epochs, val_accuracy, label=\"Validation Accuracy\")\n",
    "plt.title(\"Model Accuracy Over Epochs\")\n",
    "plt.xlabel(\"Epochs\")\n",
    "plt.ylabel(\"Accuracy\")\n",
    "plt.legend()\n",
    "plt.grid(True)\n",
    "plt.savefig(\"model_accuracy.png\")\n",
    "plt.show()\n",
    "\n",
    "# Dự đoán cuối cùng trên tập kiểm tra\n",
    "y_pred = bst.predict(dtest)\n",
    "y_pred_binary = [1 if p > 0.5 else 0 for p in y_pred]\n",
    "final_accuracy = accuracy_score(y_test, y_pred_binary)\n",
    "final_auroc = roc_auc_score(y_test, y_pred)\n",
    "print(f\"Final Test Accuracy: {round(final_accuracy * 100, 2)}%\")\n",
    "print(f\"Final Test AUROC: {round(final_auroc, 4)}\")"
   ]
  }
 ],
 "metadata": {
  "kernelspec": {
   "display_name": "Python 3",
   "language": "python",
   "name": "python3"
  },
  "language_info": {
   "codemirror_mode": {
    "name": "ipython",
    "version": 3
   },
   "file_extension": ".py",
   "mimetype": "text/x-python",
   "name": "python",
   "nbconvert_exporter": "python",
   "pygments_lexer": "ipython3",
   "version": "3.12.3"
  }
 },
 "nbformat": 4,
 "nbformat_minor": 2
}
